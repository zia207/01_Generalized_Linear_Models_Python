{
 "cells": [
  {
   "cell_type": "markdown",
   "metadata": {},
   "source": [
    "<a href=\"https://colab.research.google.com/github/zia207/r-colab/blob/main/NoteBook/Advance_Regression/01_Generalized_Linear_Models/02-01-09-01-glm-gamlss-continuous-distributions-python.ipynb\" target=\"_parent\"><img src=\"https://colab.research.google.com/assets/colab-badge.svg\" alt=\"Open In Colab\"/></a>"
   ]
  },
  {
   "cell_type": "markdown",
   "metadata": {},
   "source": [
    "![alt text](http://drive.google.com/uc?export=view&id=1IFEWet-Aw4DhkkVe1xv_2YYqlvRe9m5_)"
   ]
  },
  {
   "cell_type": "markdown",
   "metadata": {},
   "source": [
    "# 8.2 GAMLSS with Discrete Distributions in Python\n",
    "\n",
    "Discrete distributions are probability distributions that describe the likelihood of outcomes for discrete random variables—variables that can take on a finite or countably infinite number of distinct values, typically non-negative integers (e.g., 0, 1, 2, ...). Unlike continuous distributions, which can take any value within a range, discrete distributions assign probabilities to specific points.\n",
    "\n",
    "Key characteristics:\n",
    "\n",
    "* The probability mass function (PMF) gives the probability for each possible value.\n",
    "* The cumulative distribution function (CDF) is the sum of probabilities up to a given value.\n",
    "* Common examples include:\n",
    "- `Bernoulli`: Models a single trial with two outcomes (success/failure), e.g., a coin flip.\n",
    "- `Binomial`: Models the number of successes in a fixed number of independent Bernoulli trials.\n",
    "- `Poisson`: Models the number of events occurring in a fixed interval of time or space, assuming rare events (e.g., number of emails received per hour).\n",
    "- `Negative Binomial`: Models the number of trials needed to achieve a fixed number of successes, or the number of failures before successes; useful for overdispersed count data.\n",
    "- `Geometric`: A special case of negative binomial, modeling trials until the first success.\n",
    "- `Discrete Uniform`: Equal probability for a finite set of outcomes (e.g., rolling a die).\n",
    "\n",
    "These are widely used in fields like statistics, biology, and engineering for modeling count data, where values can't be fractional."
   ]
  },
  {
   "cell_type": "markdown",
   "metadata": {},
   "source": [
    "This tutorial demonstrates how to use Generalized Additive Models for Location, Scale, and Shape (GAMLSS) in Python to model the visits variable from the NMES1988 dataset with discrete distributions, incorporating smoothing terms for flexibility. While a direct, comprehensive `GAMLSS` package like R's `gamlss` isn't as mature in Python, we can leverage pyGAM for GAMs with various distributions and statsmodels for some GAMLSS-like functionalities for specific distributions by iteratively fitting. We'll focus on pyGAM for its smoothing capabilities and ability to handle various distributions, even if it doesn't fully replicate the full four-parameter GAMLSS framework of R's `gamlss`. For distributions beyond the basic pyGAM offerings, we might use `statsmodels` or custom implementations.\n",
    "\n",
    "For this tutorial, we will primarily use `pyGAM` as it provides native support for various distributions (Poisson, Negative Binomial) and penalized splines for smoothing, making it the closest Python equivalent for GAMs with discrete distributions.\n"
   ]
  },
  {
   "cell_type": "markdown",
   "metadata": {},
   "source": [
    "###  Install and Load  Required Python Packages"
   ]
  },
  {
   "cell_type": "code",
   "execution_count": null,
   "metadata": {},
   "outputs": [],
   "source": [
    "# Install missing packages\n",
    "!pip install pandas numpy matplotlib seaborn scikit-learn pygam statsmodels"
   ]
  },
  {
   "cell_type": "code",
   "execution_count": 3,
   "metadata": {},
   "outputs": [
    {
     "name": "stdout",
     "output_type": "stream",
     "text": [
      "Successfully loaded packages.\n"
     ]
    }
   ],
   "source": [
    "import pandas as pd\n",
    "import numpy as np\n",
    "import matplotlib.pyplot as plt\n",
    "import seaborn as sns\n",
    "from sklearn.model_selection import train_test_split\n",
    "from pygam import LinearGAM, PoissonGAM, GammaGAM, s, f\n",
    "from statsmodels.discrete.count_model import ZeroInflatedNegativeBinomialP\n",
    "from statsmodels.genmod.generalized_estimating_equations import GEE\n",
    "from statsmodels.genmod import families\n",
    "import statsmodels.api as sm\n",
    "import warnings\n",
    "\n",
    "# Suppress warnings for cleaner output\n",
    "warnings.filterwarnings(\"ignore\")\n",
    "\n",
    "print(\"Successfully loaded packages.\")"
   ]
  },
  {
   "cell_type": "code",
   "execution_count": null,
   "metadata": {},
   "outputs": [],
   "source": []
  },
  {
   "cell_type": "markdown",
   "metadata": {},
   "source": [
    "## Data\n",
    "\n",
    "The `NMES1988` dataset from the AER package (R) contains data from the 1987–1988 National Medical Expenditure Survey, focusing on medical care usage by elderly individuals (aged 66 and older). We’ll manually load a similar dataset or define it for demonstration purposes, as direct AER package data loading isn't straightforward in Python without a direct port. For this example, we'll create a synthetic dataset resembling NMES1988 characteristics or use a publicly available one that fits the description.\n",
    "\n",
    "Since NMES1988 is an R-specific dataset, we'll use a placeholder CSV for demonstration that mimics its structure and variable types. If you have the NMES1988.csv available, you can load it directly. Otherwise, we'll simulate some data.\n"
   ]
  },
  {
   "cell_type": "code",
   "execution_count": 2,
   "metadata": {},
   "outputs": [
    {
     "name": "stdout",
     "output_type": "stream",
     "text": [
      "Data loaded or synthesized.\n"
     ]
    }
   ],
   "source": [
    "# Placeholder for loading NMES1988 data.\n",
    "# If you have the actual CSV, uncomment and use the line below:\n",
    "# df = pd.read_csv('NMES1988.csv')\n",
    "\n",
    "# For demonstration, let's create a synthetic dataset with similar characteristics\n",
    "# as the NMES1988 data described in the R tutorial.\n",
    "np.random.seed(42)\n",
    "n_samples = 2000\n",
    "\n",
    "df = pd.DataFrame({\n",
    "    'visits': np.random.poisson(lam=3, size=n_samples) + np.random.negative_binomial(n=1, p=0.5, size=n_samples),\n",
    "    'hospital': np.random.randint(0, 5, size=n_samples),\n",
    "    'health': np.random.choice(['poor', 'average', 'excellent'], size=n_samples, p=[0.2, 0.5, 0.3]),\n",
    "    'chronic': np.random.randint(0, 6, size=n_samples),\n",
    "    'age': np.random.normal(75, 5, size=n_samples),\n",
    "    'afam': np.random.choice(['yes', 'no'], size=n_samples, p=[0.15, 0.85]),\n",
    "    'gender': np.random.choice(['male', 'female'], size=n_samples, p=[0.48, 0.52]),\n",
    "    'married': np.random.choice(['yes', 'no'], size=n_samples, p=[0.6, 0.4]),\n",
    "    'school': np.random.randint(6, 18, size=n_samples),\n",
    "    'income': np.random.uniform(1, 10, size=n_samples),\n",
    "    'employed': np.random.choice(['yes', 'no'], size=n_samples, p=[0.4, 0.6]),\n",
    "    'insurance': np.random.choice(['yes', 'no'], size=n_samples, p=[0.8, 0.2]),\n",
    "    'medicaid': np.random.choice(['yes', 'no'], size=n_samples, p=[0.1, 0.9])\n",
    "})\n",
    "\n",
    "# Scale age as (age - 65)/10 as per R tutorial\n",
    "df['age'] = (df['age'] - 65) / 10\n",
    "\n",
    "# Ensure 'visits' are non-negative integers\n",
    "df['visits'] = np.maximum(0, df['visits']).astype(int)\n",
    "\n",
    "# Apply some zero inflation to visits\n",
    "zero_mask = np.random.rand(n_samples) < 0.2\n",
    "df.loc[zero_mask, 'visits'] = 0\n",
    "\n",
    "print(\"Data loaded or synthesized.\")"
   ]
  },
  {
   "cell_type": "markdown",
   "metadata": {},
   "source": [
    "### Explore Data"
   ]
  },
  {
   "cell_type": "code",
   "execution_count": 4,
   "metadata": {},
   "outputs": [
    {
     "name": "stdout",
     "output_type": "stream",
     "text": [
      "   visits  hospital     health  chronic       age afam  gender married  \\\n",
      "0       6         2    average        3  1.295060  yes  female     yes   \n",
      "1       1         0  excellent        3  0.090517   no    male     yes   \n",
      "2       8         1    average        1  0.946932  yes  female     yes   \n",
      "3       3         2    average        1  1.429118   no  female     yes   \n",
      "4       2         2       poor        1  0.814042  yes  female      no   \n",
      "\n",
      "   school    income employed insurance medicaid  \n",
      "0      17  4.441070      yes       yes       no  \n",
      "1      14  8.456379      yes       yes      yes  \n",
      "2      12  1.726896      yes        no       no  \n",
      "3       9  6.622965       no       yes       no  \n",
      "4      17  8.813584      yes       yes       no  \n",
      "\n",
      "\n",
      "<class 'pandas.core.frame.DataFrame'>\n",
      "RangeIndex: 2000 entries, 0 to 1999\n",
      "Data columns (total 13 columns):\n",
      " #   Column     Non-Null Count  Dtype  \n",
      "---  ------     --------------  -----  \n",
      " 0   visits     2000 non-null   int64  \n",
      " 1   hospital   2000 non-null   int64  \n",
      " 2   health     2000 non-null   object \n",
      " 3   chronic    2000 non-null   int64  \n",
      " 4   age        2000 non-null   float64\n",
      " 5   afam       2000 non-null   object \n",
      " 6   gender     2000 non-null   object \n",
      " 7   married    2000 non-null   object \n",
      " 8   school     2000 non-null   int64  \n",
      " 9   income     2000 non-null   float64\n",
      " 10  employed   2000 non-null   object \n",
      " 11  insurance  2000 non-null   object \n",
      " 12  medicaid   2000 non-null   object \n",
      "dtypes: float64(2), int64(4), object(7)\n",
      "memory usage: 203.3+ KB\n",
      "None\n",
      "\n",
      "\n",
      "            visits     hospital      chronic          age       school  \\\n",
      "count  2000.000000  2000.000000  2000.000000  2000.000000  2000.000000   \n",
      "mean      3.110500     1.967500     2.515500     0.988872    11.546000   \n",
      "std       2.438086     1.425293     1.701531     0.490094     3.408767   \n",
      "min       0.000000     0.000000     0.000000    -0.744890     6.000000   \n",
      "25%       1.000000     1.000000     1.000000     0.647989     9.000000   \n",
      "50%       3.000000     2.000000     3.000000     0.995027    12.000000   \n",
      "75%       5.000000     3.000000     4.000000     1.323300    15.000000   \n",
      "max      13.000000     4.000000     5.000000     2.608010    17.000000   \n",
      "\n",
      "            income  \n",
      "count  2000.000000  \n",
      "mean      5.477222  \n",
      "std       2.572911  \n",
      "min       1.003099  \n",
      "25%       3.319842  \n",
      "50%       5.485975  \n",
      "75%       7.743730  \n",
      "max       9.997589  \n"
     ]
    }
   ],
   "source": [
    "print(df.head())\n",
    "print(\"\\n\")\n",
    "print(df.info())\n",
    "print(\"\\n\")\n",
    "print(df.describe())"
   ]
  },
  {
   "cell_type": "code",
   "execution_count": 5,
   "metadata": {},
   "outputs": [
    {
     "data": {
      "image/png": "[encoded data removed]",
      "text/plain": [
       "<Figure size 800x600 with 1 Axes>"
      ]
     },
     "metadata": {},
     "output_type": "display_data"
    }
   ],
   "source": [
    "plt.figure(figsize=(8, 6))\n",
    "sns.histplot(df['visits'], bins=50, kde=False)\n",
    "plt.title(\"Histogram of Physician Visits\")\n",
    "plt.xlabel(\"Number of Visits\")\n",
    "plt.ylabel(\"Frequency\")\n",
    "plt.show()"
   ]
  },
  {
   "cell_type": "markdown",
   "metadata": {},
   "source": [
    "Check for overdispersion:"
   ]
  },
  {
   "cell_type": "code",
   "execution_count": 6,
   "metadata": {},
   "outputs": [
    {
     "name": "stdout",
     "output_type": "stream",
     "text": [
      "Mean of visits: 3.11\n",
      "Variance of visits: 5.94\n",
      ">> Overdispersion detected (variance > mean)\n"
     ]
    }
   ],
   "source": [
    "mean_visits = df['visits'].mean()\n",
    "var_visits = df['visits'].var()\n",
    "\n",
    "print(f\"Mean of visits: {mean_visits:.2f}\")\n",
    "print(f\"Variance of visits: {var_visits:.2f}\")\n",
    "\n",
    "if var_visits > mean_visits:\n",
    "    print(\">> Overdispersion detected (variance > mean)\")\n",
    "else:\n",
    "    print(\"No significant overdispersion detected (variance <= mean)\")"
   ]
  },
  {
   "cell_type": "markdown",
   "metadata": {},
   "source": [
    "Convert categorical variables to factors (pandas 'category' dtype):"
   ]
  },
  {
   "cell_type": "code",
   "execution_count": 7,
   "metadata": {},
   "outputs": [
    {
     "name": "stdout",
     "output_type": "stream",
     "text": [
      "\n",
      "Categorical variables converted to 'category' type.\n",
      "<class 'pandas.core.frame.DataFrame'>\n",
      "RangeIndex: 2000 entries, 0 to 1999\n",
      "Data columns (total 13 columns):\n",
      " #   Column     Non-Null Count  Dtype   \n",
      "---  ------     --------------  -----   \n",
      " 0   visits     2000 non-null   int64   \n",
      " 1   hospital   2000 non-null   int64   \n",
      " 2   health     2000 non-null   category\n",
      " 3   chronic    2000 non-null   int64   \n",
      " 4   age        2000 non-null   float64 \n",
      " 5   afam       2000 non-null   category\n",
      " 6   gender     2000 non-null   category\n",
      " 7   married    2000 non-null   category\n",
      " 8   school     2000 non-null   int64   \n",
      " 9   income     2000 non-null   float64 \n",
      " 10  employed   2000 non-null   category\n",
      " 11  insurance  2000 non-null   category\n",
      " 12  medicaid   2000 non-null   category\n",
      "dtypes: category(7), float64(2), int64(4)\n",
      "memory usage: 108.4 KB\n",
      "None\n"
     ]
    }
   ],
   "source": [
    "categorical_cols = ['health', 'afam', 'gender', 'married', 'employed', 'insurance', 'medicaid']\n",
    "for col in categorical_cols:\n",
    "    df[col] = df[col].astype('category')\n",
    "\n",
    "print(\"\\nCategorical variables converted to 'category' type.\")\n",
    "print(df.info())"
   ]
  },
  {
   "cell_type": "markdown",
   "metadata": {},
   "source": [
    "Check for missing values:"
   ]
  },
  {
   "cell_type": "code",
   "execution_count": 8,
   "metadata": {},
   "outputs": [
    {
     "name": "stdout",
     "output_type": "stream",
     "text": [
      "\n",
      "Missing values before handling:\n",
      "visits       0\n",
      "hospital     0\n",
      "health       0\n",
      "chronic      0\n",
      "age          0\n",
      "afam         0\n",
      "gender       0\n",
      "married      0\n",
      "school       0\n",
      "income       0\n",
      "employed     0\n",
      "insurance    0\n",
      "medicaid     0\n",
      "dtype: int64\n",
      "\n",
      "Missing values after dropping NA rows:\n",
      "visits       0\n",
      "hospital     0\n",
      "health       0\n",
      "chronic      0\n",
      "age          0\n",
      "afam         0\n",
      "gender       0\n",
      "married      0\n",
      "school       0\n",
      "income       0\n",
      "employed     0\n",
      "insurance    0\n",
      "medicaid     0\n",
      "dtype: int64\n",
      "Dataframe shape after dropping NAs: (2000, 13)\n"
     ]
    }
   ],
   "source": [
    "print(\"\\nMissing values before handling:\")\n",
    "print(df.isnull().sum())\n",
    "df = df.dropna()\n",
    "print(\"\\nMissing values after dropping NA rows:\")\n",
    "print(df.isnull().sum())\n",
    "print(f\"Dataframe shape after dropping NAs: {df.shape}\")"
   ]
  },
  {
   "cell_type": "markdown",
   "metadata": {},
   "source": [
    "For the Beta Binomial (BB) model, we need a binomial denominator bd (upper bound for counts). Since visits is unbounded in theory but has a practical maximum, we'll set bd = max(df$visits) + 10 for demonstration. pyGAM does not natively support Beta Binomial, so we will skip it for now."
   ]
  },
  {
   "cell_type": "markdown",
   "metadata": {},
   "source": [
    "### Split Data"
   ]
  },
  {
   "cell_type": "code",
   "execution_count": 10,
   "metadata": {},
   "outputs": [
    {
     "name": "stdout",
     "output_type": "stream",
     "text": [
      "Train data shape: (1400, 13)\n",
      "Test data shape: (600, 13)\n",
      "\n",
      "Mean of visits (train): 3.14\n",
      "Variance of visits (train): 5.88\n",
      ">> Overdispersion detected in training data (variance > mean)\n"
     ]
    }
   ],
   "source": [
    "# Create a combined stratification key\n",
    "df['stratify_key'] = df['gender'].astype(str) + '_' + df['afam'].astype(str)\n",
    "\n",
    "train_df, test_df = train_test_split(df, test_size=0.30, random_state=101, stratify=df['stratify_key'])\n",
    "\n",
    "# Drop the stratification key\n",
    "train_df = train_df.drop('stratify_key', axis=1)\n",
    "test_df = test_df.drop('stratify_key', axis=1)\n",
    "\n",
    "print(f\"Train data shape: {train_df.shape}\")\n",
    "print(f\"Test data shape: {test_df.shape}\")\n",
    "\n",
    "# Check for overdispersion in train data\n",
    "mean_visits_train = train_df['visits'].mean()\n",
    "var_visits_train = train_df['visits'].var()\n",
    "\n",
    "print(f\"\\nMean of visits (train): {mean_visits_train:.2f}\")\n",
    "print(f\"Variance of visits (train): {var_visits_train:.2f}\")\n",
    "\n",
    "if var_visits_train > mean_visits_train:\n",
    "    print(\">> Overdispersion detected in training data (variance > mean)\")\n",
    "else:\n",
    "    print(\"No significant overdispersion detected in training data (variance <= mean)\")"
   ]
  },
  {
   "cell_type": "markdown",
   "metadata": {},
   "source": [
    "### Train GAMLSS Models \n",
    "\n",
    "In pyGAM, we use `s()` for smoothing splines (like pb() in R) and f() for factor variables. pyGAM's PoissonGAM and GammaGAM are direct, but for Negative Binomial, we pass distribution=NegativeBinomial(). Zero-inflated models and Sichel are not directly available in pyGAM. For Zero-Inflated Negative Binomial, we might resort to statsmodels.\n",
    "\n",
    "**Important Note on GAMLSS vs. GAM in Python:**\n",
    "\n",
    "The gamlss package in R allows modeling all parameters (l`ocation mu`, `scale sigma`, `shape nu`, `tau) as additive functions of predictors. pyGAM primarily focuses on modeling the `mu` (location) parameter, and optionally some dispersion parameters for certain distributions, but it's not a full GAMLSS implementation. For true multi-parameter modeling as in R, one would need to build custom iterative fitting procedures or use specialized libraries that aren't as mature as gamlss in R. For this tutorial, we will approximate by using pyGAM for the location parameter and note the limitations for other parameters.\n"
   ]
  },
  {
   "cell_type": "markdown",
   "metadata": {},
   "source": [
    "First, prepare X and y for pyGAM. We need to handle categorical variables by creating dummy variables."
   ]
  },
  {
   "cell_type": "code",
   "execution_count": 11,
   "metadata": {},
   "outputs": [
    {
     "name": "stdout",
     "output_type": "stream",
     "text": [
      "Design matrices prepared.\n"
     ]
    }
   ],
   "source": [
    "# Define features and target\n",
    "target_col = 'visits'\n",
    "continuous_features = ['age', 'school', 'income', 'hospital', 'chronic']\n",
    "categorical_features = ['health', 'afam', 'gender', 'married', 'employed', 'insurance', 'medicaid']\n",
    "\n",
    "# Create design matrices (X) and target vector (y)\n",
    "X_train = pd.get_dummies(train_df[continuous_features + categorical_features], columns=categorical_features, drop_first=True)\n",
    "y_train = train_df[target_col]\n",
    "\n",
    "X_test = pd.get_dummies(test_df[continuous_features + categorical_features], columns=categorical_features, drop_first=True)\n",
    "y_test = test_df[target_col]\n",
    "\n",
    "# Align columns - crucial for consistent predictions\n",
    "train_cols = X_train.columns\n",
    "test_cols = X_test.columns\n",
    "missing_in_test = set(train_cols) - set(test_cols)\n",
    "for c in missing_in_test:\n",
    "    X_test[c] = 0\n",
    "X_test = X_test[train_cols] # Ensure order of columns is the same\n",
    "\n",
    "print(\"Design matrices prepared.\")"
   ]
  },
  {
   "cell_type": "markdown",
   "metadata": {},
   "source": [
    "####  Poisson (PO) with Smoothing"
   ]
  },
  {
   "cell_type": "code",
   "execution_count": 13,
   "metadata": {},
   "outputs": [
    {
     "name": "stdout",
     "output_type": "stream",
     "text": [
      "Poisson GAM Summary:\n",
      "PoissonGAM                                                                                                \n",
      "=============================================== ==========================================================\n",
      "Distribution:                       PoissonDist Effective DoF:                                     55.0784\n",
      "Link Function:                          LogLink Log Likelihood:                                 -3285.4172\n",
      "Number of Samples:                         1400 AIC:                                             6680.9911\n",
      "                                                AICc:                                            6685.7581\n",
      "                                                UBRE:                                               4.3341\n",
      "                                                Scale:                                                 1.0\n",
      "                                                Pseudo R-Squared:                                   0.0319\n",
      "==========================================================================================================\n",
      "Feature Function                  Lambda               Rank         EDoF         P > x        Sig. Code   \n",
      "================================= ==================== ============ ============ ============ ============\n",
      "s(0)                              [0.6]                20           14.6         1.05e-01                 \n",
      "s(1)                              [0.6]                20           11.0         7.50e-01                 \n",
      "s(2)                              [0.6]                20           15.6         3.42e-03     **          \n",
      "s(3)                              [0]                  4            3.0          9.51e-01                 \n",
      "s(4)                              [0]                  4            3.0          3.99e-02     *           \n",
      "s(5)                              [0]                  4            1.0          0.00e+00     ***         \n",
      "s(6)                              [0]                  4            1.0          0.00e+00     ***         \n",
      "s(7)                              [0]                  4            1.0          0.00e+00     ***         \n",
      "s(8)                              [0]                  4            1.0          0.00e+00     ***         \n",
      "s(9)                              [0]                  4            1.0          0.00e+00     ***         \n",
      "s(10)                             [0]                  4            1.0          0.00e+00     ***         \n",
      "s(11)                             [0]                  4            1.0          0.00e+00     ***         \n",
      "s(12)                             [0]                  4            1.0          0.00e+00     ***         \n",
      "intercept                                              1            0.0          1.49e-04     ***         \n",
      "==========================================================================================================\n",
      "Significance codes:  0 '***' 0.001 '**' 0.01 '*' 0.05 '.' 0.1 ' ' 1\n",
      "\n",
      "WARNING: Fitting splines and a linear function to a feature introduces a model identifiability problem\n",
      "         which can cause p-values to appear significant when they are not.\n",
      "\n",
      "WARNING: p-values calculated in this manner behave correctly for un-penalized models or models with\n",
      "         known smoothing parameters, but when smoothing parameters have been estimated, the p-values\n",
      "         are typically lower than they should be, meaning that the tests reject the null too readily.\n",
      "None\n"
     ]
    }
   ],
   "source": [
    "# Poisson GAM\n",
    "# s() for smoothing on continuous features, f() for factor variables (though we've dummified them)\n",
    "# For pyGAM, it's easier to just pass the dummified variables as regular predictors if they are linear terms.\n",
    "# For smoothing, use s(column_index).\n",
    "# We'll build the formula dynamically to include s() for age, school, income and linear terms for others.\n",
    "\n",
    "gam_terms = s(0) + s(1) + s(2) # Indices for age, school, income\n",
    "# Add linear terms for hospital, chronic and dummified categorical variables\n",
    "# Use n_splines > spline_order (default 3) and lam=0 for linear terms\n",
    "for i in range(3, X_train.shape[1]):\n",
    "    gam_terms += s(i, lam=0, n_splines=4)\n",
    "\n",
    "# Pass the TermList object to the terms argument\n",
    "mod_po = PoissonGAM(terms=gam_terms).fit(X_train, y_train)\n",
    "\n",
    "print(\"Poisson GAM Summary:\")\n",
    "print(mod_po.summary())"
   ]
  },
  {
   "cell_type": "markdown",
   "metadata": {},
   "source": [
    "#### NegativeBinomial model"
   ]
  },
  {
   "cell_type": "code",
   "execution_count": 19,
   "metadata": {},
   "outputs": [
    {
     "name": "stdout",
     "output_type": "stream",
     "text": [
      "Optimization terminated successfully.\n",
      "         Current function value: 2.228821\n",
      "         Iterations: 24\n",
      "         Function evaluations: 28\n",
      "         Gradient evaluations: 28\n",
      "\n",
      "Statsmodels Negative Binomial Model Summary:\n",
      "                     NegativeBinomial Regression Results                      \n",
      "==============================================================================\n",
      "Dep. Variable:                      y   No. Observations:                 1400\n",
      "Model:               NegativeBinomial   Df Residuals:                     1386\n",
      "Method:                           MLE   Df Model:                           13\n",
      "Date:                Wed, 17 Sep 2025   Pseudo R-squ.:                0.001922\n",
      "Time:                        21:04:35   Log-Likelihood:                -3120.3\n",
      "converged:                       True   LL-Null:                       -3126.4\n",
      "Covariance Type:            nonrobust   LLR p-value:                    0.5262\n",
      "==============================================================================\n",
      "                 coef    std err          z      P>|z|      [0.025      0.975]\n",
      "------------------------------------------------------------------------------\n",
      "x1             0.0477      0.047      1.023      0.306      -0.044       0.139\n",
      "x2             0.0043      0.007      0.649      0.516      -0.009       0.017\n",
      "x3            -0.0054      0.009     -0.599      0.549      -0.023       0.012\n",
      "x4             0.0122      0.016      0.762      0.446      -0.019       0.043\n",
      "x5             0.0146      0.014      1.081      0.279      -0.012       0.041\n",
      "x6            -0.0424      0.054     -0.784      0.433      -0.148       0.064\n",
      "x7            -0.0419      0.060     -0.697      0.486      -0.160       0.076\n",
      "x8             0.0558      0.065      0.860      0.390      -0.071       0.183\n",
      "x9            -0.0536      0.046     -1.177      0.239      -0.143       0.036\n",
      "x10           -0.0186      0.046     -0.406      0.685      -0.109       0.071\n",
      "x11           -0.0420      0.047     -0.904      0.366      -0.133       0.049\n",
      "x12           -0.0933      0.057     -1.642      0.101      -0.205       0.018\n",
      "x13            0.0811      0.078      1.039      0.299      -0.072       0.234\n",
      "const          1.1466      0.131      8.722      0.000       0.889       1.404\n",
      "alpha          0.3981      0.033     12.195      0.000       0.334       0.462\n",
      "==============================================================================\n"
     ]
    }
   ],
   "source": [
    "import statsmodels.api as sm\n",
    "import statsmodels.discrete.discrete_model as smd\n",
    "import numpy as np # Ensure numpy is imported\n",
    "\n",
    "# Add a constant (intercept) to the training predictors\n",
    "X_train_sm = sm.add_constant(X_train, prepend=False)\n",
    "\n",
    "# Ensure data is in a numeric NumPy format\n",
    "X_train_sm_np = X_train_sm.values.astype(np.float64)\n",
    "y_train_np = y_train.values.astype(np.float64)\n",
    "\n",
    "# Fit the Negative Binomial model\n",
    "# Note: statsmodels NegativeBinomial model is for count data and handles overdispersion.\n",
    "# Type 0 is the default and is often referred to as NB2.\n",
    "mod_nb_sm = smd.NegativeBinomial(endog=y_train_np, exog=X_train_sm_np, loglike_method='nb2').fit()\n",
    "\n",
    "print(\"\\nStatsmodels Negative Binomial Model Summary:\")\n",
    "print(mod_nb_sm.summary())"
   ]
  }
 ],
 "metadata": {
  "kernelspec": {
   "display_name": "3.11.11",
   "language": "python",
   "name": "python3"
  },
  "language_info": {
   "codemirror_mode": {
    "name": "ipython",
    "version": 3
   },
   "file_extension": ".py",
   "mimetype": "text/x-python",
   "name": "python",
   "nbconvert_exporter": "python",
   "pygments_lexer": "ipython3",
   "version": "3.11.11"
  }
 },
 "nbformat": 4,
 "nbformat_minor": 2
}
