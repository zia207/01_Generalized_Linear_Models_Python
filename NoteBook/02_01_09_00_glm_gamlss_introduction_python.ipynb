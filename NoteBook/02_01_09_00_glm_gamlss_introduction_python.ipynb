{
 "cells": [
  {
   "cell_type": "markdown",
   "metadata": {},
   "source": [
    "<a href=\"https://colab.research.google.com/github/zia207/r-colab/blob/main/NoteBook/Advance_Regression/01_Generalized_Linear_Models/02-01-09-00-glm-gamlss-introduction-python.ipynb\" target=\"_parent\"><img src=\"https://colab.research.google.com/assets/colab-badge.svg\" alt=\"Open In Colab\"/></a>"
   ]
  },
  {
   "cell_type": "markdown",
   "metadata": {},
   "source": [
    "![alt text](http://drive.google.com/uc?export=view&id=1IFEWet-Aw4DhkkVe1xv_2YYqlvRe9m5_)"
   ]
  },
  {
   "cell_type": "markdown",
   "metadata": {},
   "source": [
    "# 9. Generalized Additive Model for Location, Scale, and Shape (GAMLSS)\n",
    "\n",
    "**GAMLSS (Generalized Additive Models for Location Scale and Shape)** are distributional regression models that allow explanatory variables (X) to affect all aspects of the response variable's distribution (y), not just the expected value. This is useful for analyzing shifts in not only the mean but also variance, skewness, kurtosis, and quantiles.\n",
    "\n",
    "GAMLSS can be implemented in Python via packages such as `ondil`, which provides a native implementation for online distributional learning with GAMLSS support. Other related packages include `pygam` for standard GAMs (which can be extended conceptually) and `statsmodels` for foundational regression tools. The `ondil` package emphasizes efficiency with just-in-time compilation via `numba` and compatibility with `scikit-learn`. It supports a variety of distributions and regularization methods. GAMLSS offers over 100 continuous, discrete, and mixed distributions for response modeling in R, but in Python via `ondil`, key distributions like Gaussian, Student's t, Johnson's SU, and others are available, with extensibility for more. The book *Distributions for Modelling Location, Scale, and Shape: Using GAMLSS in R* remains a comprehensive guide, adaptable to Python contexts.\n",
    "\n",
    "Within GAMLSS, machine learning techniques can model distribution parameters. Options for additive smoothing include P-splines and cubic smoothing splines (via extensions or custom implementations), while methods for dimensionality reduction encompass ridge regression and LASSO. Interaction modeling can be achieved with regression trees and neural networks (integrable via `scikit-learn`), and random effects can also be incorporated.\n",
    "\n",
    "GAMLSS is particularly beneficial for practitioners handling skewed and kurtotic data, common in fields like medicine and finance. Notable users include the World Health Organization (WHO), the Global Lung Function Initiative, the International Monetary Fund (IMF), and the European Parliament, among others."
   ]
  },
  {
   "cell_type": "markdown",
   "metadata": {},
   "source": [
    "## Overview\n",
    "\n",
    "In GAMLSS, the response variable ( Y ) is assumed to follow a parametric distribution with probability density function (pdf) or probability mass function (pmf):\n",
    "$$\n",
    "Y \\sim D(\\mu, \\sigma, \\nu, \\tau, \\dots)\n",
    "$$\n",
    "where the distribution $D$ has up to **four parameters**:\n",
    "- $\\mu$: **Location** (e.g., mean)\n",
    "- $\\sigma$: **Scale** (e.g., standard deviation)\n",
    "- $\\nu$: **Shape** (e.g., skewness)\n",
    "- $\\tau$: **Shape** (e.g., kurtosis)\n",
    "\n",
    "Each parameter is modeled via a **link function** as an additive function of explanatory variables:\n",
    "$$\n",
    "\\begin{align*}\n",
    "g_1(\\mu) &= \\eta_1 = \\beta_{10} + f_{11}(x_1) + f_{12}(x_2) + \\dots + f_{1p}(x_p) \\\\\n",
    "g_2(\\sigma) &= \\eta_2 = \\beta_{20} + f_{21}(x_1) + f_{22}(x_2) + \\dots + f_{2p}(x_p) \\\\\n",
    "g_3(\\nu) &= \\eta_3 = \\beta_{30} + f_{31}(x_1) + f_{32}(x_2) + \\dots + f_{3p}(x_p) \\\\\n",
    "g_4(\\tau) &= \\eta_4 = \\beta_{40} + f_{41}(x_1) + f_{42}(x_2) + \\dots + f_{4p}(x_p)\n",
    "\\end{align*}\n",
    "$$\n",
    "where:\n",
    "- $g_k(\\cdot)$ are **link functions** (e.g., identity, log, logit)\n",
    "- $\\eta_k$ are **linear predictors** for the $k$-th parameter\n",
    "- $f_{kj}(\\cdot)$ are **smooth functions** (splines, polynomials, etc.) of covariates\n",
    "- $\\beta_{k0}$ are intercepts\n",
    "\n",
    "This framework allows **nonlinear, nonparametric relationships** between predictors and each distribution parameter."
   ]
  },
  {
   "cell_type": "markdown",
   "metadata": {},
   "source": [
    "### Key Features of GAMLSS\n",
    "\n",
    "1. **Flexible Distribution Assumptions**\n",
    "    - Can model responses using a wide range of distributions, including highly skewed, heavy-tailed, zero-inflated, or bounded distributions (e.g., Student's t, Johnson's SU, Beta, via `ondil.distributions`).\n",
    "    - Not limited to exponential family (unlike GLMs/GAMs).\n",
    "\n",
    "2. **Modeling All Distribution Parameters**\n",
    "    - Unlike standard models that only model the mean, GAMLSS can model **variance, skewness, and kurtosis** as functions of covariates.\n",
    "    - Enables **heteroscedasticity modeling** and **distributional regression**.\n",
    "\n",
    "3. **Additive Predictors**\n",
    "    - Each parameter is modeled as an **additive function** of covariates, similar to GAMs.\n",
    "    - Can include smooth terms, random effects, spatial effects, and interactions (via `scikit-learn` integration).\n",
    "\n",
    "4. **Robustness to Non-Normality**\n",
    "    - Handles data that violate normality, constant variance, or other classical assumptions.\n",
    "\n",
    "5. **Estimation via Maximum Likelihood**\n",
    "    - Parameters are estimated using **(penalized) maximum likelihood** with online coordinate descent in `ondil`.\n",
    "    - Smoothing parameters are selected using criteria like AIC, BIC, or GCV (via `ic` parameter).\n",
    "\n",
    "6. **Software Support**\n",
    "    - Implemented in Python via the `ondil` package (Hirsch et al., ongoing development)."
   ]
  },
  {
   "cell_type": "markdown",
   "metadata": {},
   "source": [
    "### Applications of GAMLSS\n",
    "\n",
    "GAMLSS is widely used in fields where data exhibit complex distributional behavior:\n",
    "\n",
    "1. **Health and Medicine**\n",
    "    - Modeling growth charts (e.g., WHO child growth standards), where percentiles (via ( \\mu ) and ( \\sigma )) vary with age.\n",
    "    - Blood pressure, BMI, or biomarker modeling with age, sex, and lifestyle factors.\n",
    "\n",
    "2. **Insurance and Risk Modeling**\n",
    "    - Modeling claim sizes with heavy-tailed distributions (e.g., Pareto, GB2 approximations via custom distributions).\n",
    "    - Actuarial risk assessment with variable scale and shape.\n",
    "\n",
    "3. **Environmental Science**\n",
    "    - Rainfall, temperature, or pollution levels with skewness and heteroscedasticity.\n",
    "\n",
    "4. **Economics and Finance**\n",
    "    - Income distribution modeling (skewed, heavy-tailed).\n",
    "    - Volatility modeling (scale as a function of predictors).\n",
    "\n",
    "5. **Ecology**\n",
    "    - Species abundance with zero-inflation and overdispersion."
   ]
  },
  {
   "cell_type": "markdown",
   "metadata": {},
   "source": [
    "### How GAMLSS Differs from Standard GAM\n",
    "\n",
    "| Feature                  | **Standard GAM**                                                                 | **GAMLSS**                                                                 |\n",
    "|--------------------------|----------------------------------------------------------------------------------|----------------------------------------------------------------------------|\n",
    "| **Distribution**         | Typically exponential family (Normal, Poisson, Binomial)                         | Any parametric distribution (including non-exponential family)              |\n",
    "| **Parameters Modeled**   | Only the **mean** (location)                                                     | **All parameters**: mean, scale, skewness, kurtosis                         |\n",
    "| **Variance Assumption**  | Often assumes constant variance or variance linked to mean                       | **Variance (and shape) can depend on covariates**                           |\n",
    "| **Flexibility**          | Flexible mean function                                                           | Flexible **entire distribution**                                            |\n",
    "| **Modeling Goal**        | Estimate conditional mean                                                        | Estimate full conditional distribution                                      |\n",
    "| **Example Use Case**     | Predicting average house price (using `pygam`)                                   | Predicting full price distribution (mean, spread, skew) using `ondil`       |"
   ]
  },
  {
   "cell_type": "markdown",
   "metadata": {},
   "source": [
    "### The {ondil} Package Ecosystem\n",
    "\n",
    "The GAMLSS framework in Python is primarily supported by `ondil`, with complementary packages for broader functionality:\n",
    "\n",
    "1. The core `{ondil}` package for fitting online GAMLSS models.\n",
    "2. Integration with `{scikit-learn}` for preprocessing, regularization, and extensions.\n",
    "3. `{pygam}` for standard GAMs, useful for comparison or baseline mean modeling.\n",
    "4. `{statsmodels}` for additional distributional tools and diagnostics.\n",
    "5. `{numba}` (dependency) for performance optimization.\n",
    "6. Custom extensions for new distributions or smoothers."
   ]
  },
  {
   "cell_type": "markdown",
   "metadata": {},
   "source": [
    "### Main Functions\n",
    "\n",
    "| Function/Class/Method                  | Description                                                                 |\n",
    "|----------------------------------------|-----------------------------------------------------------------------------|\n",
    "| `OnlineDistributionalRegression`       | Main class for fitting GAMLSS models, specifying distribution, method (e.g., Lasso), and equations for parameters. |\n",
    "| `fit(X, y)`                            | Fits the model on initial data (similar to `gamlss()` but online-capable).  |\n",
    "| `update(X, y)`                         | Incrementally updates the model with new data.                              |\n",
    "| `predict_distribution_parameters(X)`   | Predicts parameters (e.g., μ, σ) for new data (equivalent to `predict()`).  |\n",
    "| `beta`                                 | Accesses fitted coefficients (via attribute; for summary-like output).      |\n",
    "| `ic` (parameter)                       | Specifies information criterion (AIC/BIC) for selection.                    |\n",
    "| Residuals (custom)                     | Compute normalized quantile residuals using `scipy` or custom functions.    |\n",
    "| `summary` (custom/print)               | Print model summary via `print(model.beta)` or custom logging.              |\n",
    "| Plots (via `matplotlib`)               | Generate diagnostic plots (Q-Q, density) post-prediction.                   |\n",
    "| `wp()` (custom)                        | Worm plots for residuals using visualization libraries.                     |\n",
    "| Centiles (custom)                      | Compute and plot centile curves from predicted distributions.               |\n",
    "| `AIC` / `BIC` (via `ic`)               | Calculates information criteria during fitting.                             |\n",
    "| Model selection (manual)               | Stepwise selection via iterative fitting/updating.                          |\n",
    "| `histDist` (custom via `seaborn`)      | Fit and plot parametric distributions to histograms.                        |\n",
    "| `pdf.plot` (custom)                    | Plot probability density functions using `scipy.stats`.                     |\n",
    "| `rqres.plot` (custom)                  | Plot randomized quantile residuals.                                         |\n",
    "| Hyperparameter tuning (via grid)       | Optimize via cross-validation with `scikit-learn`.                          |"
   ]
  },
  {
   "cell_type": "markdown",
   "metadata": {},
   "source": [
    "### Example: Fitting a Simple GAMLSS Model in Python\n",
    "\n",
    "To illustrate, here's a basic example using the `ondil` package to fit a GAMLSS model with a Student's t distribution on the diabetes dataset:"
   ]
  },
  {
   "cell_type": "code",
   "execution_count": 4,
   "metadata": {},
   "outputs": [
    {
     "name": "stdout",
     "output_type": "stream",
     "text": [
      "Collecting ondil\n",
      "  Downloading ondil-0.4.2-py3-none-any.whl.metadata (9.9 kB)\n",
      "Requirement already satisfied: scipy<2.2.0,>=1.00 in /home/zia207/.pyenv/versions/3.11.11/lib/python3.11/site-packages (from ondil) (1.15.1)\n",
      "Requirement already satisfied: numpy<=2.1.0,>=1.2 in /home/zia207/.pyenv/versions/3.11.11/lib/python3.11/site-packages (from ondil) (2.0.2)\n",
      "Requirement already satisfied: numba<1.0.0,>=0.59.1 in /home/zia207/.pyenv/versions/3.11.11/lib/python3.11/site-packages (from ondil) (0.61.0)\n",
      "Requirement already satisfied: scikit-learn>=1.5 in /home/zia207/.pyenv/versions/3.11.11/lib/python3.11/site-packages (from ondil) (1.6.1)\n",
      "Requirement already satisfied: llvmlite<0.45,>=0.44.0dev0 in /home/zia207/.pyenv/versions/3.11.11/lib/python3.11/site-packages (from numba<1.0.0,>=0.59.1->ondil) (0.44.0)\n",
      "Requirement already satisfied: joblib>=1.2.0 in /home/zia207/.pyenv/versions/3.11.11/lib/python3.11/site-packages (from scikit-learn>=1.5->ondil) (1.4.2)\n",
      "Requirement already satisfied: threadpoolctl>=3.1.0 in /home/zia207/.pyenv/versions/3.11.11/lib/python3.11/site-packages (from scikit-learn>=1.5->ondil) (3.5.0)\n",
      "Downloading ondil-0.4.2-py3-none-any.whl (122 kB)\n",
      "Installing collected packages: ondil\n",
      "Successfully installed ondil-0.4.2\n"
     ]
    }
   ],
   "source": [
    "!pip install ondil"
   ]
  },
  {
   "cell_type": "code",
   "execution_count": 7,
   "metadata": {},
   "outputs": [
    {
     "name": "stdout",
     "output_type": "stream",
     "text": [
      "Type of test_params: <class 'numpy.ndarray'>\n",
      "Shape of test_params: (89, 3)\n",
      "Shape of loc: (89,)\n",
      "Shape of scale: (89,)\n",
      "Shape of df: (89,)\n",
      "Sample residuals: [ 46.75285597  88.81236212  28.67867461   1.64181304 112.03535212]\n"
     ]
    }
   ],
   "source": [
    "import numpy as np\n",
    "from sklearn.datasets import load_diabetes\n",
    "from ondil.estimators import OnlineDistributionalRegression\n",
    "from ondil.distributions import StudentT\n",
    "from scipy.stats import t\n",
    "\n",
    "# Load data\n",
    "X, y = load_diabetes(return_X_y=True)\n",
    "\n",
    "# Define equations for distribution parameters\n",
    "equation = {\n",
    "    0: list(range(X.shape[1])),  # All features for mu\n",
    "    1: list(range(X.shape[1])),  # All features for sigma\n",
    "    2: list(range(X.shape[1]))   # All features for nu\n",
    "}\n",
    "\n",
    "# Initialize and fit\n",
    "model = OnlineDistributionalRegression(\n",
    "    distribution=StudentT(),\n",
    "    method=\"lasso\",\n",
    "    equation=equation,\n",
    "    fit_intercept=True,\n",
    "    ic=\"bic\"\n",
    ")\n",
    "\n",
    "# Fit on training data\n",
    "n_train = int(0.8 * len(y))\n",
    "model.fit(X=X[:n_train], y=y[:n_train])\n",
    "\n",
    "# Predict parameters\n",
    "test_params = model.predict_distribution_parameters(X=X[n_train:])\n",
    "print(\"Type of test_params:\", type(test_params))\n",
    "print(\"Shape of test_params:\", test_params.shape)\n",
    "\n",
    "# Extract loc, scale, df assuming test_params is (n_test, 3)\n",
    "loc = test_params[:, 0]   # Location (mu)\n",
    "scale = test_params[:, 1] # Scale (sigma)\n",
    "df = test_params[:, 2]    # Shape (nu, degrees of freedom)\n",
    "\n",
    "# Verify shapes\n",
    "print(\"Shape of loc:\", loc.shape)\n",
    "print(\"Shape of scale:\", scale.shape)\n",
    "print(\"Shape of df:\", df.shape)\n",
    "\n",
    "# Compute residuals\n",
    "q = (np.arange(len(y[n_train:])) + 0.5) / len(y[n_train:])\n",
    "residuals = t.ppf(q, df=df, loc=loc, scale=scale)\n",
    "print(\"Sample residuals:\", residuals[:5])"
   ]
  },
  {
   "cell_type": "markdown",
   "metadata": {},
   "source": [
    "This fits a model where all parameters depend on the full set of predictors, regularized via Lasso. Predictions return arrays of [location, scale, shape] for each observation. Extend with smooth terms by preprocessing X with splines from `pygam` or `scipy`."
   ]
  },
  {
   "cell_type": "markdown",
   "metadata": {},
   "source": [
    "## Resources\n",
    "\n",
    "1. Rigby, R. A., & Stasinopoulos, D. M. (2005). *Generalized additive models for location, scale and shape*. Journal of the Royal Statistical Society: Series C (Applied Statistics), 54(3), 507–554.\n",
    "2. Stasinopoulos, D. M., & Rigby, R. A. (2007). *Generalized additive models for location scale and shape (GAMLSS) in R*. Journal of Statistical Software, 23(7), 1–46.\n",
    "3. [ondil Documentation](https://simon-hirsch.github.io/ondil/) - Official Python GAMLSS implementation with examples.\n",
    "4. [Flexible Regression and Smoothing: Using GAMLSS in R](https://www.taylorfrancis.com/books/mono/10.1201/b21973/flexible-regression-smoothing-mikis-stasinopoulos-robert-rigby-gillian-heller-vlasios-voudouris-fernanda-de-bastiani) (adaptable concepts).\n",
    "5. [Distributions for Location Scale and Shape: Using GAMLSS in R](https://www.taylorfrancis.com/books/mono/10.1201/9780429298547/distributions-modeling-location-scale-shape-robert-rigby-mikis-stasinopoulos-gillian-heller-fernanda-de-bastiani).\n",
    "6. [Generalised Additive Models for Location Scale and Shape: A Distributional Regression Approach with Applications](https://www.cambridge.org/core/books/generalized-additive-models-for-location-scale-and-shape/3499AA3827369F287B604639D1127FE3/)."
   ]
  }
 ],
 "metadata": {
  "kernelspec": {
   "display_name": "3.11.11",
   "language": "python",
   "name": "python3"
  },
  "language_info": {
   "codemirror_mode": {
    "name": "ipython",
    "version": 3
   },
   "file_extension": ".py",
   "mimetype": "text/x-python",
   "name": "python",
   "nbconvert_exporter": "python",
   "pygments_lexer": "ipython3",
   "version": "3.11.11"
  }
 },
 "nbformat": 4,
 "nbformat_minor": 4
}
