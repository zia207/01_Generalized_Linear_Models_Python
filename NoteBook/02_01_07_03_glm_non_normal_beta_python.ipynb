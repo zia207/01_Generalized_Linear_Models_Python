{
 "cells": [
  {
   "cell_type": "markdown",
   "metadata": {},
   "source": [
    "<a href=\"https://colab.research.google.com/github/zia207/r-colab/blob/main/NoteBook/Advance_Regression/01_Generalized_Linear_Models/02-01-07-03-glm-non-normal-beta-python.ipynb\" target=\"_parent\"><img src=\"https://colab.research.google.com/assets/colab-badge.svg\" alt=\"Open In Colab\"/></a>"
   ]
  },
  {
   "cell_type": "markdown",
   "metadata": {},
   "source": [
    "![alt text](http://drive.google.com/uc?export=view&id=1IFEWet-Aw4DhkkVe1xv_2YYqlvRe9m5_)"
   ]
  },
  {
   "cell_type": "markdown",
   "metadata": {},
   "source": [
    "# 7.3 Beta Regression\n",
    "\n",
    "Beta regression is a statistical modeling technique for continuous response variables within the interval $(0, 1)$. This makes it particularly suitable for data such as proportions, rates, and probabilities, like conversion rates in marketing campaigns or percentage allocations. In this tutorial, we will demonstrate the entire process using synthetic data. We'll cover data generation, model fitting, and performance metrics, including pseudo $R^2$ and model coefficients, all without relying on any built-in Python packages beyond core scientific libraries. Following this, we will simplify the modeling of beta regression by utilizing the `BetaModel` class from the `statsmodels` package and demonstrate how to interpret the results practically. Additionally, we will explore the marginal effects and assess the model's performance through cross-validation. This hands-on introduction will equip you with the necessary skills to apply beta regression to real-world datasets with bounded response variables."
   ]
  },
  {
   "cell_type": "markdown",
   "metadata": {},
   "source": [
    "# Overview\n",
    "\n",
    "Beta regression is a type of regression model used when the dependent variable $y$ is continuous and constrained within an interval, typically $(0, 1)$. This is common for proportions or rates, like percentages (excluding 0 and 1). Traditional linear regression models don’t work well in these cases, as they can predict values outside the $(0, 1)$ interval, and assumptions of normality and homoscedasticity may not hold. Beta regression is built on the beta distribution, which is well-suited for modeling such bounded data.\n",
    "\n",
    "Here’s a step-by-step explanation of beta regression, including key mathematical details.\n",
    "\n",
    "***Understanding the Beta Distribution***\n",
    "\n",
    "The beta distribution is a continuous probability distribution defined on the interval $(0, 1)$. Its probability density function is given by:\n",
    "\n",
    "$$ f(y; \\alpha, \\beta) = \\frac{y^{\\alpha - 1} (1 - y)^{\\beta - 1}}{B(\\alpha, \\beta)} $$\n",
    "\n",
    "where:\n",
    "\n",
    "- $ y \\in (0, 1) $ is the variable of interest.\n",
    "- $\\alpha > 0$ and $\\beta > 0$ are shape parameters.\n",
    "- $B(\\alpha, \\beta)$ is the beta function, which normalizes the distribution:\n",
    "\n",
    "$$ B(\\alpha, \\beta) = \\int_0^1 t^{\\alpha - 1} (1 - t)^{\\beta - 1} \\, dt $$\n",
    "\n",
    "The mean $\\mu$ and variance $\\sigma^2$ of a beta distribution are given by:\n",
    "\n",
    "$$ \\mu = \\frac{\\alpha}{\\alpha + \\beta}, \\quad \\sigma^2 = \\frac{\\alpha \\beta}{(\\alpha + \\beta)^2 (\\alpha + \\beta + 1)} $$\n",
    "\n",
    "The mean $\\mu$ represents the central tendency, while the variance $\\sigma^2$ reflects the spread.\n",
    "\n",
    "***Modeling the Mean with a Link Function***\n",
    "\n",
    "In beta regression, we model the mean $\\mu$ of the beta distribution as a function of the predictors $X$. Since $\\mu \\in (0, 1)$, we apply a link function $g(\\cdot)$ to transform $\\mu$ into an unbounded linear predictor:\n",
    "\n",
    "$$ g(\\mu) = X \\beta $$\n",
    "\n",
    "Common choices for the link function $g(\\cdot)$ are:\n",
    "\n",
    "- The logit link: $g(\\mu) = \\log \\left( \\frac{\\mu}{1 - \\mu} \\right)$\n",
    "- The probit link: $g(\\mu) = \\Phi^{-1}(\\mu)$, where $\\Phi^{-1}$ is the inverse CDF of the normal distribution\n",
    "\n",
    "The link function ensures that $\\mu$ lies between 0 and 1, regardless of the values of $X$.\n",
    "\n",
    "***Specifying the Dispersion Parameter***\n",
    "\n",
    "In addition to the mean, beta regression also incorporates a precision (or dispersion) parameter, often denoted by $\\phi$. The parameters $\\alpha$ and $\\beta$ can be reparametrized in terms of $\\mu$ and $\\phi$ as follows:\n",
    "\n",
    "$$ \\alpha = \\mu \\phi, \\quad \\beta = (1 - \\mu) \\phi $$\n",
    "\n",
    "Here, $\\phi$ is related to the variance of $y$, with larger values of $\\phi$ leading to a smaller variance. Unlike in ordinary regression, where variance is typically constant, in beta regression, the dispersion parameter $\\phi$ allows for flexibility in the variability of $y$ based on the values of the predictors.\n",
    "\n",
    "***Defining the Likelihood Function***\n",
    "\n",
    "The likelihood function for beta regression is based on the beta distribution’s PDF. Given $n$ observations, the likelihood function is:\n",
    "\n",
    "$$ L(\\beta, \\phi; y) = \\prod_{i=1}^n f(y_i; \\mu_i, \\phi) = \\prod_{i=1}^n \\frac{y_i^{\\mu_i \\phi - 1} (1 - y_i)^{(1 - \\mu_i) \\phi - 1}}{B(\\mu_i \\phi, (1 - \\mu_i) \\phi)} $$\n",
    "\n",
    "Taking the logarithm of the likelihood function (for simplicity in optimization) gives the log-likelihood:\n",
    "\n",
    "$$ \\log L(\\beta, \\phi; y) = \\sum_{i=1}^n \\left[ (\\mu_i \\phi - 1) \\log y_i + ((1 - \\mu_i) \\phi - 1) \\log (1 - y_i) - \\log B(\\mu_i \\phi, (1 - \\mu_i) \\phi) \\right] $$\n",
    "\n",
    "***Estimating Parameters Using Maximum Likelihood***\n",
    "\n",
    "To estimate the parameters $\\beta$ and $\\phi$, we maximize the log-likelihood function. This is often done using numerical optimization techniques because the log-likelihood function is complex and does not have a closed-form solution.\n",
    "\n",
    "The parameter estimates $\\hat{\\beta}$ and $\\hat{\\phi}$ are obtained by solving:\n",
    "\n",
    "$$ \\frac{\\partial \\log L}{\\partial \\beta} = 0 \\quad \\text{and} \\quad \\frac{\\partial \\log L}{\\partial \\phi} = 0 $$\n",
    "\n",
    "Once these parameters are estimated, they can be used to predict the mean response $\\mu$ for new data points.\n",
    "\n",
    "***Interpreting the Model***\n",
    "\n",
    "After fitting a beta regression model, we interpret $\\beta$ coefficients in terms of their effect on the log-odds (if using the logit link) of the mean $\\mu$. A positive $\\beta_j$ implies that an increase in $X_j$ is associated with an increase in the mean of $y$, while a negative $\\beta_j$ implies the opposite.\n",
    "\n",
    "The dispersion parameter $\\phi$ provides insight into the variability of $y$: a high $\\phi$ implies that the values of $y$ are tightly clustered around the mean, while a low $\\phi$ suggests more variability."
   ]
  },
  {
   "cell_type": "markdown",
   "metadata": {},
   "source": [
    "## Beta Regression Model from Scratch\n",
    "\n",
    "To demonstrate beta regression in Python without using any specialized package, we'll need to work directly with the beta distribution and likelihood functions. This example will walk through generating synthetic data, defining the likelihood function for beta regression, estimating parameters with numerical optimization, and evaluating model performance.\n",
    "\n",
    "### Generate Synthetic Data\n",
    "\n",
    "We'll generate synthetic data with four predictors and a target variable $y$ constrained between $(0, 1)$. We'll simulate the beta-distributed response $y$ based on a linear combination of the predictors transformed through a logistic function to ensure values stay in the $(0, 1)$ range."
   ]
  },
  {
   "cell_type": "code",
   "execution_count": 5,
   "metadata": {},
   "outputs": [
    {
     "name": "stdout",
     "output_type": "stream",
     "text": [
      "          y        X1        X2        X3        X4\n",
      "0  0.911221 -1.085631  0.642055  0.703310  0.765055\n",
      "1  0.139528  0.997345 -1.977888 -0.598105 -0.828989\n",
      "2  0.526427  0.282978  0.712265  2.200702 -0.659151\n",
      "3  0.959179 -1.506295  2.598304  0.688297  0.611124\n",
      "4  0.767396 -0.578600 -0.024626 -0.006307 -0.144013\n"
     ]
    }
   ],
   "source": [
    "import numpy as np\n",
    "import pandas as pd\n",
    "from scipy.stats import beta as beta_dist  # Explicitly import and rename to avoid conflict\n",
    "from scipy.optimize import minimize\n",
    "import matplotlib.pyplot as plt\n",
    "import seaborn as sns\n",
    "\n",
    "# Set seed for reproducibility\n",
    "np.random.seed(123)\n",
    "\n",
    "# Generate predictors\n",
    "n = 100\n",
    "X1 = np.random.normal(0, 1, n)\n",
    "X2 = np.random.normal(0, 1, n)\n",
    "X3 = np.random.normal(0, 1, n)\n",
    "X4 = np.random.normal(0, 1, n)\n",
    "\n",
    "# Define true coefficients\n",
    "beta_true = np.array([0.5, -0.3, 0.8, -0.2, 0.1])  # Intercept + 4 predictors\n",
    "phi = 10  # Dispersion parameter\n",
    "\n",
    "# Calculate the linear predictor and apply logistic link function to get mu\n",
    "linear_predictor = (beta_true[0] + beta_true[1]*X1 + beta_true[2]*X2 +\n",
    "                    beta_true[3]*X3 + beta_true[4]*X4)\n",
    "mu = 1 / (1 + np.exp(-linear_predictor))\n",
    "\n",
    "# Generate beta-distributed response variable y\n",
    "alpha = mu * phi\n",
    "beta_param = (1 - mu) * phi\n",
    "y = beta_dist.rvs(alpha, beta_param, size=n)\n",
    "\n",
    "# Combine data into a DataFrame\n",
    "data = pd.DataFrame({'y': y, 'X1': X1, 'X2': X2, 'X3': X3, 'X4': X4})\n",
    "print(data.head())"
   ]
  },
  {
   "cell_type": "markdown",
   "metadata": {},
   "source": [
    "### Define the Beta Regression Log-Likelihood Function\n",
    "\n",
    "We'll create a function to compute the log-likelihood of the beta regression model. The function takes the model parameters (coefficients $\\beta$ and dispersion parameter $\\phi$) and the data as input and returns the negative log-likelihood. We use `beta.logpdf` from `scipy.stats` to calculate the log-likelihood for each observation."
   ]
  },
  {
   "cell_type": "code",
   "execution_count": 7,
   "metadata": {},
   "outputs": [],
   "source": [
    "# Define the Beta Regression Log-Likelihood Function\n",
    "def log_likelihood(params, data):\n",
    "    # Extract parameters\n",
    "    beta_coeffs = params[:5]  # Renamed to avoid conflict with beta distribution\n",
    "    phi = np.exp(params[5])  # dispersion parameter, transformed to be positive\n",
    "    \n",
    "    # Linear predictor\n",
    "    X = np.column_stack([np.ones(len(data)), data.iloc[:, 1:].values])  # Add intercept to predictors matrix\n",
    "    linear_predictor = X @ beta_coeffs\n",
    "    mu = 1 / (1 + np.exp(-linear_predictor))  # Logistic link function\n",
    "    \n",
    "    # Calculate alpha and beta parameters of the beta distribution\n",
    "    alpha = mu * phi\n",
    "    beta_param = (1 - mu) * phi\n",
    "    \n",
    "    # Log-likelihood calculation using beta_dist\n",
    "    ll = np.sum(beta_dist.logpdf(data['y'], alpha, beta_param))\n",
    "    return -ll  # Return negative log-likelihood for minimization"
   ]
  },
  {
   "cell_type": "markdown",
   "metadata": {},
   "source": [
    "### Fit the Model Using Numerical Optimization\n",
    "\n",
    "We’ll use `minimize` from `scipy.optimize` to minimize the negative log-likelihood and estimate the parameters. We start with random initial guesses for the parameters and use the BFGS optimization method. The `hess_inv` from the result allows us to approximate standard errors later."
   ]
  },
  {
   "cell_type": "code",
   "execution_count": 8,
   "metadata": {},
   "outputs": [
    {
     "name": "stdout",
     "output_type": "stream",
     "text": [
      "Estimated coefficients (beta):\n",
      "[ 0.4271417  -0.29587964  0.74758691 -0.22467689  0.14719595]\n",
      "Estimated dispersion parameter (phi):\n",
      "11.951286549020018\n"
     ]
    }
   ],
   "source": [
    "# Optimize\n",
    "fit = minimize(log_likelihood, initial_params, args=(data,), method='BFGS')\n",
    "\n",
    "# Extract estimated parameters\n",
    "beta_hat = fit.x[:5]\n",
    "phi_hat = np.exp(fit.x[5])\n",
    "\n",
    "print(\"Estimated coefficients (beta):\")\n",
    "print(beta_hat)\n",
    "print(\"Estimated dispersion parameter (phi):\")\n",
    "print(phi_hat)"
   ]
  },
  {
   "cell_type": "markdown",
   "metadata": {},
   "source": [
    "### Display Model Summary\n",
    "\n",
    "Let's create a summary table for the estimated coefficients and their standard errors. The inverse Hessian from `minimize` can be used to approximate standard errors."
   ]
  },
  {
   "cell_type": "code",
   "execution_count": 9,
   "metadata": {},
   "outputs": [
    {
     "name": "stdout",
     "output_type": "stream",
     "text": [
      "  Coefficient  Estimate  Std. Error\n",
      "0   Intercept  0.427142    0.066909\n",
      "1          X1 -0.295880    0.056696\n",
      "2          X2  0.747587    0.073020\n",
      "3          X3 -0.224677    0.064709\n",
      "4          X4  0.147196    0.070386\n"
     ]
    }
   ],
   "source": [
    "# Standard errors from the inverse Hessian\n",
    "se = np.sqrt(np.diag(fit.hess_inv))\n",
    "\n",
    "# Extract estimated coefficients\n",
    "beta_est = fit.x[:5]\n",
    "\n",
    "# Print results\n",
    "summary_table = pd.DataFrame({\n",
    "    'Coefficient': ['Intercept', 'X1', 'X2', 'X3', 'X4'],\n",
    "    'Estimate': beta_est,\n",
    "    'Std. Error': se[:5]\n",
    "})\n",
    "print(summary_table)"
   ]
  },
  {
   "cell_type": "markdown",
   "metadata": {},
   "source": [
    "### Dispersion Parameter"
   ]
  },
  {
   "cell_type": "code",
   "execution_count": 10,
   "metadata": {},
   "outputs": [
    {
     "name": "stdout",
     "output_type": "stream",
     "text": [
      "Dispersion Parameter (phi) from the model: 11.951286549020018\n"
     ]
    }
   ],
   "source": [
    "# Dispersion parameter has already been calculated as phi_hat\n",
    "print(\"Dispersion Parameter (phi) from the model:\", phi_hat)"
   ]
  },
  {
   "cell_type": "markdown",
   "metadata": {},
   "source": [
    "### Evaluate Model Performance\n",
    "\n",
    "We’ll use the estimated parameters to compute the fitted values of $\\mu$ and check the model’s performance by comparing predicted values to actual values."
   ]
  },
  {
   "cell_type": "code",
   "execution_count": 11,
   "metadata": {},
   "outputs": [
    {
     "name": "stdout",
     "output_type": "stream",
     "text": [
      "Mean Squared Error (MSE):\n",
      "0.016479157430070078\n"
     ]
    }
   ],
   "source": [
    "# Compute predicted values of mu\n",
    "X = np.column_stack([np.ones(len(data)), data.iloc[:, 1:].values])\n",
    "linear_predictor_hat = X @ beta_hat\n",
    "mu_hat = 1 / (1 + np.exp(-linear_predictor_hat))\n",
    "\n",
    "# Mean Squared Error (MSE) as a performance metric\n",
    "mse = np.mean((data['y'] - mu_hat)**2)\n",
    "print(\"Mean Squared Error (MSE):\")\n",
    "print(mse)"
   ]
  },
  {
   "cell_type": "markdown",
   "metadata": {},
   "source": [
    "### Cross-validation\n",
    "\n",
    "To evaluate the beta regression model using cross-validation, we can use a simple $k$-fold cross-validation approach. Cross-validation will split the data into k subsets, train the model on $k-1$ folds, and evaluate it on the remaining fold. We repeat this process $k$ times, each time using a different fold for validation.\n",
    "\n",
    "Here's how to implement $k$-fold cross-validation for the beta regression model created earlier. We’ll compute the Mean Squared Error (MSE) for each fold as a performance metric and calculate the average MSE across all folds."
   ]
  },
  {
   "cell_type": "code",
   "execution_count": 12,
   "metadata": {},
   "outputs": [
    {
     "name": "stdout",
     "output_type": "stream",
     "text": [
      "Average Cross-Validated MSE: 0.01959712406927522\n"
     ]
    }
   ],
   "source": [
    "def cross_validate_beta_regression(data, k=5):\n",
    "    n = len(data)\n",
    "    indices = np.random.permutation(n)\n",
    "    fold_size = n // k\n",
    "    \n",
    "    mse_values = np.zeros(k)\n",
    "    \n",
    "    for i in range(k):\n",
    "        # Define training and validation indices\n",
    "        val_start = i * fold_size\n",
    "        val_end = (i + 1) * fold_size if i < k - 1 else n\n",
    "        val_indices = indices[val_start:val_end]\n",
    "        train_indices = np.concatenate([indices[:val_start], indices[val_end:]])\n",
    "        \n",
    "        train_data = data.iloc[train_indices]\n",
    "        val_data = data.iloc[val_indices]\n",
    "        \n",
    "        # Fit the model on training data\n",
    "        initial_params = np.array([0, 0, 0, 0, 0, np.log(1)])\n",
    "        fit_fold = minimize(log_likelihood, initial_params, args=(train_data,), method='BFGS')\n",
    "        \n",
    "        # Extract the estimated parameters\n",
    "        beta_hat_fold = fit_fold.x[:5]\n",
    "        \n",
    "        # Compute predictions for validation data\n",
    "        X_val = np.column_stack([np.ones(len(val_data)), val_data.iloc[:, 1:].values])\n",
    "        linear_predictor_val = X_val @ beta_hat_fold\n",
    "        mu_val = 1 / (1 + np.exp(-linear_predictor_val))\n",
    "        \n",
    "        # Calculate MSE for this fold\n",
    "        mse_values[i] = np.mean((val_data['y'] - mu_val)**2)\n",
    "    \n",
    "    # Return average MSE across all folds\n",
    "    avg_mse = np.mean(mse_values)\n",
    "    return avg_mse\n",
    "\n",
    "# Run Cross-Validation\n",
    "np.random.seed(123)\n",
    "k = 5\n",
    "avg_mse_cv = cross_validate_beta_regression(data, k)\n",
    "print(\"Average Cross-Validated MSE:\", avg_mse_cv)"
   ]
  },
  {
   "cell_type": "markdown",
   "metadata": {},
   "source": [
    "## Beta Regression in Python\n",
    "\n",
    "In beta regression, we model the mean of the response variable (proportion) through a link function (usually a logit or log-log link) to keep predictions within the 0-1 range. The mean prediction of the response variable is often interpreted as the central tendency of the outcome for given levels of the predictors.\n",
    "\n",
    "### Install Required Python Packages\n",
    "\n",
    "The following Python packages are required to run this notebook. If any of these packages are not installed, you can install them using the code below:"
   ]
  },
  {
   "cell_type": "code",
   "execution_count": null,
   "metadata": {},
   "outputs": [],
   "source": [
    "packages = [\n",
    "    'numpy', 'pandas', 'scipy', 'statsmodels', 'matplotlib', 'seaborn',\n",
    "    'scikit-learn'  # For cross-validation utilities if needed\n",
    "]\n",
    "\n",
    "# Note: Install missing packages via pip\n",
    "# !pip install numpy pandas scipy statsmodels matplotlib seaborn scikit-learn"
   ]
  },
  {
   "cell_type": "markdown",
   "metadata": {},
   "source": [
    "### Load Python Packages"
   ]
  },
  {
   "cell_type": "code",
   "execution_count": 38,
   "metadata": {},
   "outputs": [
    {
     "name": "stdout",
     "output_type": "stream",
     "text": [
      "Successfully loaded packages.\n"
     ]
    }
   ],
   "source": [
    "import numpy as np\n",
    "import pandas as pd\n",
    "import matplotlib.pyplot as plt\n",
    "import seaborn as sns\n",
    "from scipy import stats\n",
    "from statsmodels.othermod.betareg import BetaModel\n",
    "from statsmodels.tools.tools import add_constant\n",
    "from statsmodels.genmod.families.links import LogLog, Log\n",
    "import warnings\n",
    "warnings.filterwarnings('ignore')\n",
    "\n",
    "print(\"Successfully loaded packages.\")"
   ]
  },
  {
   "cell_type": "markdown",
   "metadata": {},
   "source": [
    "### Data\n",
    "\n",
    "In this tutorial, we will use Prater's well-known gasoline yield data from 1956. The primary variable of interest is `yield`, which represents the proportion of crude oil converted to gasoline after distillation and fractionation. A beta regression model is particularly suitable for analyzing this variable. We also have two explanatory variables: `temp`, the temperature (measured in degrees Fahrenheit) at which all the gasoline has vaporized, and `batch`, a categorical variable denoting ten unique batches of conditions involved in the experiments based on various other factors.\n",
    "\n",
    "Source: Prater NH (1956). “Estimate Gasoline Yields from Crudes.” Petroleum Refiner, 35(5), 236–238."
   ]
  },
  {
   "cell_type": "code",
   "execution_count": 20,
   "metadata": {},
   "outputs": [
    {
     "name": "stdout",
     "output_type": "stream",
     "text": [
      "Column names in the dataset:\n",
      "Index(['rownames', 'yield', 'gravity', 'pressure', 'temp10', 'temp', 'batch'], dtype='object')\n",
      "No 'Unnamed: 0' column found, proceeding without dropping.\n",
      "\n",
      "First few rows of the dataset:\n",
      "   rownames  yield  gravity  pressure  temp10  temp  batch\n",
      "0         1  0.122     50.8       8.6     190   205      1\n",
      "1         2  0.223     50.8       8.6     190   275      1\n",
      "2         3  0.347     50.8       8.6     190   345      1\n",
      "3         4  0.457     50.8       8.6     190   407      1\n",
      "4         5  0.080     40.8       3.5     210   218      2\n",
      "\n",
      "Dataset info:\n",
      "<class 'pandas.core.frame.DataFrame'>\n",
      "RangeIndex: 32 entries, 0 to 31\n",
      "Data columns (total 7 columns):\n",
      " #   Column    Non-Null Count  Dtype  \n",
      "---  ------    --------------  -----  \n",
      " 0   rownames  32 non-null     int64  \n",
      " 1   yield     32 non-null     float64\n",
      " 2   gravity   32 non-null     float64\n",
      " 3   pressure  32 non-null     float64\n",
      " 4   temp10    32 non-null     int64  \n",
      " 5   temp      32 non-null     int64  \n",
      " 6   batch     32 non-null     int64  \n",
      "dtypes: float64(3), int64(4)\n",
      "memory usage: 1.9 KB\n",
      "None\n"
     ]
    }
   ],
   "source": [
    "import pandas as pd\n",
    "\n",
    "# Load the GasolineYield dataset from Rdatasets CSV\n",
    "url = 'https://vincentarelbundock.github.io/Rdatasets/csv/betareg/GasolineYield.csv'\n",
    "GasolineYield = pd.read_csv(url)\n",
    "\n",
    "# Inspect column names\n",
    "print(\"Column names in the dataset:\")\n",
    "print(GasolineYield.columns)\n",
    "\n",
    "# Drop 'Unnamed: 0' only if it exists\n",
    "if 'Unnamed: 0' in GasolineYield.columns:\n",
    "    GasolineYield = GasolineYield.drop('Unnamed: 0', axis=1)  # Drop index column\n",
    "    print(\"Dropped 'Unnamed: 0' column.\")\n",
    "else:\n",
    "    print(\"No 'Unnamed: 0' column found, proceeding without dropping.\")\n",
    "\n",
    "# Verify the dataset\n",
    "print(\"\\nFirst few rows of the dataset:\")\n",
    "print(GasolineYield.head())\n",
    "print(\"\\nDataset info:\")\n",
    "print(GasolineYield.info())\n",
    "\n"
   ]
  },
  {
   "cell_type": "markdown",
   "metadata": {},
   "source": [
    "First, we use `describe()` function of pandas to do general diagnosis of all variables."
   ]
  },
  {
   "cell_type": "code",
   "execution_count": 21,
   "metadata": {},
   "outputs": [
    {
     "name": "stdout",
     "output_type": "stream",
     "text": [
      "\n",
      "Dataset description:\n",
      "        rownames      yield    gravity  pressure      temp10        temp  \\\n",
      "count  32.000000  32.000000  32.000000  32.00000   32.000000   32.000000   \n",
      "mean   16.500000   0.196594  39.250000   4.18125  241.500000  332.093750   \n",
      "std     9.380832   0.107224   5.635429   2.61983   37.541375   69.755961   \n",
      "min     1.000000   0.028000  31.800000   0.20000  190.000000  205.000000   \n",
      "25%     8.750000   0.116500  36.625000   1.80000  217.000000  274.500000   \n",
      "50%    16.500000   0.178000  40.000000   4.80000  231.000000  349.000000   \n",
      "75%    24.250000   0.270500  40.925000   6.10000  268.750000  383.000000   \n",
      "max    32.000000   0.457000  50.800000   8.60000  316.000000  444.000000   \n",
      "\n",
      "           batch  \n",
      "count  32.000000  \n",
      "mean    5.250000  \n",
      "std     2.884888  \n",
      "min     1.000000  \n",
      "25%     3.000000  \n",
      "50%     5.000000  \n",
      "75%     7.250000  \n",
      "max    10.000000  \n"
     ]
    }
   ],
   "source": [
    "# General diagnosis of all variables\n",
    "print(\"\\nDataset description:\")\n",
    "print(GasolineYield.describe())"
   ]
  },
  {
   "cell_type": "code",
   "execution_count": 30,
   "metadata": {},
   "outputs": [
    {
     "name": "stdout",
     "output_type": "stream",
     "text": [
      "exog_mean dtypes:\n",
      "const       float64\n",
      "temp        float64\n",
      "batch_2     float64\n",
      "batch_3     float64\n",
      "batch_4     float64\n",
      "batch_5     float64\n",
      "batch_6     float64\n",
      "batch_7     float64\n",
      "batch_8     float64\n",
      "batch_9     float64\n",
      "batch_10    float64\n",
      "dtype: object\n",
      "\n",
      "First few rows of exog_mean:\n",
      "   const   temp  batch_2  batch_3  batch_4  batch_5  batch_6  batch_7  \\\n",
      "0    1.0  205.0      0.0      0.0      0.0      0.0      0.0      0.0   \n",
      "1    1.0  275.0      0.0      0.0      0.0      0.0      0.0      0.0   \n",
      "2    1.0  345.0      0.0      0.0      0.0      0.0      0.0      0.0   \n",
      "3    1.0  407.0      0.0      0.0      0.0      0.0      0.0      0.0   \n",
      "4    1.0  218.0      1.0      0.0      0.0      0.0      0.0      0.0   \n",
      "\n",
      "   batch_8  batch_9  batch_10  \n",
      "0      0.0      0.0       0.0  \n",
      "1      0.0      0.0       0.0  \n",
      "2      0.0      0.0       0.0  \n",
      "3      0.0      0.0       0.0  \n",
      "4      0.0      0.0       0.0  \n",
      "exog_mean dtypes:\n",
      "const       float64\n",
      "temp        float64\n",
      "batch_2     float64\n",
      "batch_3     float64\n",
      "batch_4     float64\n",
      "batch_5     float64\n",
      "batch_6     float64\n",
      "batch_7     float64\n",
      "batch_8     float64\n",
      "batch_9     float64\n",
      "batch_10    float64\n",
      "dtype: object\n",
      "\n",
      "First few rows of exog_mean:\n",
      "   const   temp  batch_2  batch_3  batch_4  batch_5  batch_6  batch_7  \\\n",
      "0    1.0  205.0      0.0      0.0      0.0      0.0      0.0      0.0   \n",
      "1    1.0  275.0      0.0      0.0      0.0      0.0      0.0      0.0   \n",
      "2    1.0  345.0      0.0      0.0      0.0      0.0      0.0      0.0   \n",
      "3    1.0  407.0      0.0      0.0      0.0      0.0      0.0      0.0   \n",
      "4    1.0  218.0      1.0      0.0      0.0      0.0      0.0      0.0   \n",
      "\n",
      "   batch_8  batch_9  batch_10  \n",
      "0      0.0      0.0       0.0  \n",
      "1      0.0      0.0       0.0  \n",
      "2      0.0      0.0       0.0  \n",
      "3      0.0      0.0       0.0  \n",
      "4      0.0      0.0       0.0  \n",
      "\n",
      "endog dtype:\n",
      "float64\n"
     ]
    }
   ],
   "source": [
    "# Ensure batch is categorical\n",
    "GasolineYield['batch'] = pd.Categorical(GasolineYield['batch'])\n",
    "\n",
    "# Prepare exog_mean: keep temp as continuous, encode batch as dummy variables\n",
    "exog_mean = add_constant(GasolineYield[['temp']])  # temp is continuous, add intercept\n",
    "exog_mean = pd.concat([exog_mean, pd.get_dummies(GasolineYield['batch'], prefix='batch', drop_first=True)], axis=1)\n",
    "exog_mean = exog_mean.astype(np.float64)\n",
    "\n",
    "# Verify exog_mean\n",
    "print(\"exog_mean dtypes:\")\n",
    "print(exog_mean.dtypes)\n",
    "print(\"\\nFirst few rows of exog_mean:\")\n",
    "print(exog_mean.head())\n",
    "\n",
    "# Prepare exog_mean: keep temp as continuous, encode batch as dummy variables\n",
    "exog_mean = add_constant(GasolineYield[['temp']])  # temp is continuous, add intercept\n",
    "exog_mean = pd.concat([exog_mean, pd.get_dummies(GasolineYield['batch'], prefix='batch', drop_first=True)], axis=1)\n",
    "exog_mean = exog_mean.astype(np.float64)\n",
    "\n",
    "# Verify exog_precision\n",
    "# Verify exog_mean\n",
    "print(\"exog_mean dtypes:\")\n",
    "print(exog_mean.dtypes)\n",
    "print(\"\\nFirst few rows of exog_mean:\")\n",
    "print(exog_mean.head())\n",
    "\n",
    "# Verify endog is numeric\n",
    "print(\"\\nendog dtype:\")\n",
    "print(GasolineYield['yield'].dtype)"
   ]
  },
  {
   "cell_type": "markdown",
   "metadata": {},
   "source": [
    "## Fit Beta Models in Python\n",
    "\n",
    "In beta regression, we model the mean of the response variable (proportion) through a link function (usually a logit or log-log link) to keep predictions within the 0-1 range. The mean prediction of the response variable is often interpreted as the central tendency of the outcome for given levels of the predictors.\n",
    "\n",
    "The `BetaModel` class fits beta regression models for rates and proportions via maximum likelihood using a parametrization with mean (depending through a link function on the covariates) and precision parameter (called phi)."
   ]
  },
  {
   "cell_type": "markdown",
   "metadata": {},
   "source": [
    "### Standard Beta Regression Model\n",
    "\n",
    "First, we will fit a `BetaModel` where yield depends on batch and temp, using the standard `logit` link function:"
   ]
  },
  {
   "cell_type": "code",
   "execution_count": 31,
   "metadata": {},
   "outputs": [
    {
     "name": "stdout",
     "output_type": "stream",
     "text": [
      "                              BetaModel Results                               \n",
      "==============================================================================\n",
      "Dep. Variable:                  yield   Log-Likelihood:                 84.798\n",
      "Model:                      BetaModel   AIC:                            -145.6\n",
      "Method:            Maximum Likelihood   BIC:                            -128.0\n",
      "Date:                Tue, 16 Sep 2025                                         \n",
      "Time:                        21:46:54                                         \n",
      "No. Observations:                  32                                         \n",
      "Df Residuals:                      20                                         \n",
      "Df Model:                          10                                         \n",
      "==============================================================================\n",
      "                 coef    std err          z      P>|z|      [0.025      0.975]\n",
      "------------------------------------------------------------------------------\n",
      "const         -4.4318      0.149    -29.714      0.000      -4.724      -4.140\n",
      "temp           0.0110      0.000     26.900      0.000       0.010       0.012\n",
      "batch_2       -0.4051      0.097     -4.184      0.000      -0.595      -0.215\n",
      "batch_3       -0.1554      0.094     -1.656      0.098      -0.339       0.029\n",
      "batch_4       -0.6680      0.084     -7.935      0.000      -0.833      -0.503\n",
      "batch_5       -0.5940      0.086     -6.889      0.000      -0.763      -0.425\n",
      "batch_6       -0.6876      0.089     -7.688      0.000      -0.863      -0.512\n",
      "batch_7       -1.1840      0.092    -12.897      0.000      -1.364      -1.004\n",
      "batch_8       -1.2318      0.095    -12.976      0.000      -1.418      -1.046\n",
      "batch_9       -1.3419      0.108    -12.457      0.000      -1.553      -1.131\n",
      "batch_10      -1.7277      0.102    -17.018      0.000      -1.927      -1.529\n",
      "precision      6.0874      0.250     24.361      0.000       5.598       6.577\n",
      "==============================================================================\n"
     ]
    }
   ],
   "source": [
    "# Fit standard Beta Regression Model (logit link)\n",
    "model = BetaModel(GasolineYield['yield'], exog_mean)\n",
    "fit_beta_01 = model.fit()\n",
    "print(fit_beta_01.summary())"
   ]
  },
  {
   "cell_type": "markdown",
   "metadata": {},
   "source": [
    "- Batch and temperature are both significant predictors of yield in the GasolineYield data.\n",
    "- Higher values of `batch` and `temp` are associated with an increase in the mean gasoline yield, meaning these factors positively influence yield when considered individually.\n",
    "\n",
    "The high value of the `dispersion parameter ($\\phi$)` suggests that gasoline yields in the data are relatively consistent around their predicted means for the given conditions, which may indicate a good fit (less dispersion)."
   ]
  },
  {
   "cell_type": "markdown",
   "metadata": {},
   "source": [
    "### Variable Dispersion Beta Regression Model\n",
    "\n",
    "In standard beta regression, the dispersion parameter $\\phi$ controls the variability of the response variable around its mean. A single (constant) $\\phi$ is estimated for the entire model, implying that all observations have the same degree of variability around the mean.\n",
    "\n",
    "In a variable dispersion model, we allow the dispersion parameter $\\phi$ to vary based on one or more predictor variables. This means that $\\phi$ itself is modeled as a function of some variables, just like the mean. Variable dispersion models are useful when:\n",
    "\n",
    "- The variability of the response is expected to differ across certain levels of predictors. For example, in a clinical trial, patients from different treatment groups may exhibit varying response variability.\n",
    "- The residuals from a standard beta regression model show patterns that suggest unequal dispersion across values of certain predictors."
   ]
  },
  {
   "cell_type": "code",
   "execution_count": 33,
   "metadata": {},
   "outputs": [
    {
     "name": "stdout",
     "output_type": "stream",
     "text": [
      "                              BetaModel Results                               \n",
      "==============================================================================\n",
      "Dep. Variable:                  yield   Log-Likelihood:                    nan\n",
      "Model:                      BetaModel   AIC:                               nan\n",
      "Method:            Maximum Likelihood   BIC:                               nan\n",
      "Date:                Tue, 16 Sep 2025                                         \n",
      "Time:                        21:47:44                                         \n",
      "No. Observations:                  32                                         \n",
      "Df Residuals:                      19                                         \n",
      "Df Model:                          11                                         \n",
      "===================================================================================\n",
      "                      coef    std err          z      P>|z|      [0.025      0.975]\n",
      "-----------------------------------------------------------------------------------\n",
      "const                    0        nan        nan        nan         nan         nan\n",
      "temp                     0        nan        nan        nan         nan         nan\n",
      "batch_2                  0        nan        nan        nan         nan         nan\n",
      "batch_3                  0        nan        nan        nan         nan         nan\n",
      "batch_4                  0        nan        nan        nan         nan         nan\n",
      "batch_5                  0        nan        nan        nan         nan         nan\n",
      "batch_6                  0        nan        nan        nan         nan         nan\n",
      "batch_7                  0        nan        nan        nan         nan         nan\n",
      "batch_8                  0        nan        nan        nan         nan         nan\n",
      "batch_9                  0        nan        nan        nan         nan         nan\n",
      "batch_10                 0        nan        nan        nan         nan         nan\n",
      "precision-const     2.3026        nan        nan        nan         nan         nan\n",
      "precision-temp      2.3026        nan        nan        nan         nan         nan\n",
      "===================================================================================\n"
     ]
    }
   ],
   "source": [
    "# Variable Dispersion: phi depends on temp\n",
    "exog_precision = add_constant(GasolineYield[['temp']])  # temp is continuous, add intercept\n",
    "exog_precision = exog_precision.astype(np.float64)  # Ensure numeric\n",
    "\n",
    "# Fit Variable Dispersion Beta Regression Model with starting parameters\n",
    "# Initialize start_params: [mean params (exog_mean), precision params (exog_precision)]\n",
    "num_mean_params = exog_mean.shape[1]\n",
    "num_precision_params = exog_precision.shape[1]\n",
    "start_params = np.zeros(num_mean_params + num_precision_params)\n",
    "start_params[num_mean_params:] = np.log(10)  # Initial guess for precision parameters (log scale)\n",
    "\n",
    "model_var = BetaModel(GasolineYield['yield'], exog_mean, exog_precision=exog_precision)\n",
    "fit_beta_02 = model_var.fit(start_params=start_params, method='bfgs', maxiter=1000)\n",
    "print(fit_beta_02.summary())"
   ]
  },
  {
   "cell_type": "markdown",
   "metadata": {},
   "source": [
    "### The Beta Regression with `log-log` link function\n",
    "\n",
    "In binomial Generalized Linear Models (GLMs), choosing the right link function is crucial for enhancing model fit, particularly when the data includes extreme proportions (values close to 0 or 1). In such cases, we will use `loglog` link function instead of the default `logit` link."
   ]
  },
  {
   "cell_type": "code",
   "execution_count": 34,
   "metadata": {},
   "outputs": [
    {
     "name": "stdout",
     "output_type": "stream",
     "text": [
      "                              BetaModel Results                               \n",
      "==============================================================================\n",
      "Dep. Variable:                  yield   Log-Likelihood:                 84.798\n",
      "Model:                      BetaModel   AIC:                            -145.6\n",
      "Method:            Maximum Likelihood   BIC:                            -128.0\n",
      "Date:                Tue, 16 Sep 2025                                         \n",
      "Time:                        21:47:52                                         \n",
      "No. Observations:                  32                                         \n",
      "Df Residuals:                      20                                         \n",
      "Df Model:                          10                                         \n",
      "==============================================================================\n",
      "                 coef    std err          z      P>|z|      [0.025      0.975]\n",
      "------------------------------------------------------------------------------\n",
      "const         -4.4318      0.149    -29.714      0.000      -4.724      -4.140\n",
      "temp           0.0110      0.000     26.900      0.000       0.010       0.012\n",
      "batch_2       -0.4051      0.097     -4.184      0.000      -0.595      -0.215\n",
      "batch_3       -0.1554      0.094     -1.656      0.098      -0.339       0.029\n",
      "batch_4       -0.6680      0.084     -7.935      0.000      -0.833      -0.503\n",
      "batch_5       -0.5940      0.086     -6.889      0.000      -0.763      -0.425\n",
      "batch_6       -0.6876      0.089     -7.688      0.000      -0.863      -0.512\n",
      "batch_7       -1.1840      0.092    -12.897      0.000      -1.364      -1.004\n",
      "batch_8       -1.2318      0.095    -12.976      0.000      -1.418      -1.046\n",
      "batch_9       -1.3419      0.108    -12.457      0.000      -1.553      -1.131\n",
      "batch_10      -1.7277      0.102    -17.018      0.000      -1.927      -1.529\n",
      "precision      6.0874      0.250     24.361      0.000       5.598       6.577\n",
      "==============================================================================\n"
     ]
    }
   ],
   "source": [
    "# Beta Regression Model with loglog link function\n",
    "model_loglog = BetaModel(GasolineYield['yield'], exog_mean, link_mean='loglog')\n",
    "fit_beta_03 = model_loglog.fit()\n",
    "print(fit_beta_03.summary())"
   ]
  },
  {
   "cell_type": "markdown",
   "metadata": {},
   "source": [
    "Variable dispersion shows a significant improvement with the inclusion of the `temp` regressor."
   ]
  },
  {
   "cell_type": "markdown",
   "metadata": {},
   "source": [
    "### The Beta Regression with `link.phi = \"log\"` link function\n",
    "\n",
    "Typically, a log-link leads to somewhat improved quadratic approximations of the likelihood and less iterations in the optimization. For example, refitting the loglog model with `g_phi(·) = log(·)`:"
   ]
  },
  {
   "cell_type": "code",
   "execution_count": 39,
   "metadata": {},
   "outputs": [
    {
     "name": "stdout",
     "output_type": "stream",
     "text": [
      "                              BetaModel Results                               \n",
      "==============================================================================\n",
      "Dep. Variable:                  yield   Log-Likelihood:                    nan\n",
      "Model:                      BetaModel   AIC:                               nan\n",
      "Method:            Maximum Likelihood   BIC:                               nan\n",
      "Date:                Tue, 16 Sep 2025                                         \n",
      "Time:                        21:50:29                                         \n",
      "No. Observations:                  32                                         \n",
      "Df Residuals:                      19                                         \n",
      "Df Model:                          11                                         \n",
      "===================================================================================\n",
      "                      coef    std err          z      P>|z|      [0.025      0.975]\n",
      "-----------------------------------------------------------------------------------\n",
      "const                    0        nan        nan        nan         nan         nan\n",
      "temp                     0        nan        nan        nan         nan         nan\n",
      "batch_2                  0        nan        nan        nan         nan         nan\n",
      "batch_3                  0        nan        nan        nan         nan         nan\n",
      "batch_4                  0        nan        nan        nan         nan         nan\n",
      "batch_5                  0        nan        nan        nan         nan         nan\n",
      "batch_6                  0        nan        nan        nan         nan         nan\n",
      "batch_7                  0        nan        nan        nan         nan         nan\n",
      "batch_8                  0        nan        nan        nan         nan         nan\n",
      "batch_9                  0        nan        nan        nan         nan         nan\n",
      "batch_10                 0        nan        nan        nan         nan         nan\n",
      "precision-const     2.3026        nan        nan        nan         nan         nan\n",
      "precision-temp      2.3026        nan        nan        nan         nan         nan\n",
      "===================================================================================\n"
     ]
    }
   ],
   "source": [
    "# Prepare exog_precision: keep temp as continuous\n",
    "exog_precision = add_constant(GasolineYield[['temp']]).astype(np.float64)  # temp for phi\n",
    "\n",
    "# Initialize start_params: [mean params (exog_mean), precision params (exog_precision)]\n",
    "num_mean_params = exog_mean.shape[1]\n",
    "num_precision_params = exog_precision.shape[1]\n",
    "start_params = np.zeros(num_mean_params + num_precision_params)\n",
    "start_params[num_mean_params:] = np.log(10)  # Initial guess for precision parameters (log scale)\n",
    "\n",
    "# Beta Regression Model with loglog for mean and log for phi\n",
    "model_loglog_logphi = BetaModel(\n",
    "    GasolineYield['yield'],\n",
    "    exog_mean,\n",
    "    exog_precision=exog_precision,\n",
    "    link_mean=LogLog(),  # Use LogLog link function object\n",
    "    link_precision=Log()  # Use Log link function object\n",
    ")\n",
    "fit_beta_04 = model_loglog_logphi.fit(start_params=start_params, method='bfgs', maxiter=1000)\n",
    "print(fit_beta_04.summary())"
   ]
  },
  {
   "cell_type": "markdown",
   "metadata": {},
   "source": [
    "### Model Comparison\n",
    "\n",
    "We will compute likelihood ratio tests manually for comparisons of models."
   ]
  },
  {
   "cell_type": "code",
   "execution_count": 40,
   "metadata": {},
   "outputs": [
    {
     "name": "stdout",
     "output_type": "stream",
     "text": [
      "LR test (01 vs 02): Stat=nan, p=nan\n",
      "AIC:\n",
      "         Model         AIC\n",
      "0  fit_beta_01 -145.595116\n",
      "1  fit_beta_02         NaN\n",
      "2  fit_beta_03 -145.595116\n"
     ]
    }
   ],
   "source": [
    "from scipy.stats import chi2\n",
    "\n",
    "# Likelihood ratio test: H0: fit_beta_01 vs HA: fit_beta_02\n",
    "lr_stat_01_02 = -2 * (fit_beta_01.llf - fit_beta_02.llf)\n",
    "p_value_01_02 = 1 - chi2.cdf(lr_stat_01_02, df=1)  # 1 df for added term\n",
    "print(f\"LR test (01 vs 02): Stat={lr_stat_01_02:.2f}, p={p_value_01_02:.4f}\")\n",
    "\n",
    "# AIC comparison\n",
    "print(\"AIC:\")\n",
    "aic_df = pd.DataFrame({\n",
    "    'Model': ['fit_beta_01', 'fit_beta_02', 'fit_beta_03'],\n",
    "    'AIC': [fit_beta_01.aic, fit_beta_02.aic, fit_beta_03.aic]\n",
    "})\n",
    "print(aic_df)"
   ]
  },
  {
   "cell_type": "markdown",
   "metadata": {},
   "source": [
    "The `temp` included as a regressor in the precision equation would no longer yield significant improvements. Thus, improvement of the model fit in the mean equation by adoption of the log-log link have waived the need for a variable precision equation."
   ]
  },
  {
   "cell_type": "markdown",
   "metadata": {},
   "source": [
    "The improvement of the model fit can also be brought out graphically in a display of predicted vs. observed values."
   ]
  },
  {
   "cell_type": "code",
   "execution_count": 41,
   "metadata": {},
   "outputs": [
    {
     "data": {
      "image/png": "[encoded data removed]",
      "text/plain": [
       "<Figure size 1200x500 with 2 Axes>"
      ]
     },
     "metadata": {},
     "output_type": "display_data"
    }
   ],
   "source": [
    "# Predicted vs Observed\n",
    "logit_df = pd.DataFrame({'Obs': GasolineYield['yield'], 'Pred': fit_beta_01.fittedvalues})\n",
    "loglog_df = pd.DataFrame({'Obs': GasolineYield['yield'], 'Pred': fit_beta_03.fittedvalues})\n",
    "\n",
    "fig, (ax1, ax2) = plt.subplots(1, 2, figsize=(12, 5))\n",
    "\n",
    "sns.scatterplot(data=logit_df, x='Obs', y='Pred', ax=ax1)\n",
    "sns.regplot(data=logit_df, x='Obs', y='Pred', ax=ax1, scatter=False, color='red')\n",
    "ax1.set_title('Logit: Obs vs Predicted Yield')\n",
    "ax1.set_xlim(0, 0.6)\n",
    "ax1.set_ylim(0, 0.6)\n",
    "\n",
    "sns.scatterplot(data=loglog_df, x='Obs', y='Pred', ax=ax2)\n",
    "sns.regplot(data=loglog_df, x='Obs', y='Pred', ax=ax2, scatter=False, color='red')\n",
    "ax2.set_title('Loglog: Obs vs Predicted Yield')\n",
    "ax2.set_xlim(0, 0.6)\n",
    "ax2.set_ylim(0, 0.6)\n",
    "\n",
    "plt.tight_layout()\n",
    "plt.show()"
   ]
  },
  {
   "cell_type": "markdown",
   "metadata": {},
   "source": [
    "## Summary and Conclusion\n",
    "\n",
    "Beta regression is a powerful tool for modeling bounded continuous data, especially when the dependent variable takes values between 0 and 1, such as proportions or rates. By using the beta distribution, beta regression handles the constraints of bounded data while also providing flexibility in modeling both the mean and the dispersion of the response variable.\n",
    "\n",
    "In this tutorial, we demonstrated how to implement beta regression from scratch in Python using maximum likelihood estimation to estimate the model parameters. Although this approach does not use specialized beta regression packages beyond core libraries, it highlights the underlying statistical principles of beta regression, including the formulation of the log-likelihood function and optimization techniques.\n",
    "\n",
    "By understanding the mechanics of beta regression, users can effectively apply this technique to their datasets with bounded response variables, providing more accurate and meaningful predictions compared to traditional linear regression."
   ]
  },
  {
   "cell_type": "markdown",
   "metadata": {},
   "source": [
    "## References\n",
    "\n",
    "1. [Beta Regression for Percent and Proportion Data](https://rcompanion.org/handbook/J_02.html)\n",
    "\n",
    "2. [Beta Regression in R](https://www.zeileis.org/papers/ERCIM-2010.pdf)\n",
    "\n",
    "3. [statsmodels BetaModel Documentation](https://www.statsmodels.org/dev/generated/statsmodels.othermod.betareg.BetaModel.html)"
   ]
  }
 ],
 "metadata": {
  "kernelspec": {
   "display_name": "3.11.11",
   "language": "python",
   "name": "python3"
  },
  "language_info": {
   "codemirror_mode": {
    "name": "ipython",
    "version": 3
   },
   "file_extension": ".py",
   "mimetype": "text/x-python",
   "name": "python",
   "nbconvert_exporter": "python",
   "pygments_lexer": "ipython3",
   "version": "3.11.11"
  }
 },
 "nbformat": 4,
 "nbformat_minor": 4
}
